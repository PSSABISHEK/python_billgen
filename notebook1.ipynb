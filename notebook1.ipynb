{
 "nbformat": 4,
 "nbformat_minor": 2,
 "metadata": {
  "language_info": {
   "name": "python",
   "codemirror_mode": {
    "name": "ipython",
    "version": 3
   },
   "version": "3.6.10-final"
  },
  "orig_nbformat": 2,
  "file_extension": ".py",
  "mimetype": "text/x-python",
  "name": "python",
  "npconvert_exporter": "python",
  "pygments_lexer": "ipython3",
  "version": 3,
  "kernelspec": {
   "name": "python361064bitharvestscriptcondad9d89f28975f496399c8fa01a573100c",
   "display_name": "Python 3.6.10 64-bit ('harvest_script': conda)"
  }
 },
 "cells": [
  {
   "cell_type": "code",
   "execution_count": 1,
   "metadata": {},
   "outputs": [],
   "source": [
    "from __future__ import print_function\n",
    "from mailmerge import MailMerge\n",
    "import pandas as pd\n"
   ]
  },
  {
   "cell_type": "code",
   "execution_count": 11,
   "metadata": {},
   "outputs": [
    {
     "name": "stdout",
     "output_type": "stream",
     "text": "Rahul Bajaj 1 Months\nArchana 3 Months\nStalin 1 Months\nAnas 1 Months\nBobby 1 Months\nMadhuri 3 Months\nJayatheresa 3 Months\nRam 1 Months\n"
    }
   ],
   "source": [
    "read_csv = pd.read_csv('./temp_V2.csv').T.to_dict()\n",
    "for i in read_csv:\n",
    "    print(read_csv[i]['cName'], read_csv[i]['duration']\n",
    "    )\n"
   ]
  },
  {
   "cell_type": "code",
   "execution_count": 7,
   "metadata": {},
   "outputs": [
    {
     "name": "stdout",
     "output_type": "stream",
     "text": "90000\n"
    }
   ],
   "source": [
    "a = float(90000.0)\n",
    "print (int(a))"
   ]
  },
  {
   "cell_type": "code",
   "execution_count": 184,
   "metadata": {},
   "outputs": [
    {
     "data": {
      "text/plain": "{'amountPaid',\n 'cAddress',\n 'cName',\n 'details',\n 'duration',\n 'eMailID',\n 'noteAmount',\n 'phNumber',\n 'subEndDate',\n 'subStartDate'}"
     },
     "execution_count": 184,
     "metadata": {},
     "output_type": "execute_result"
    }
   ],
   "source": [
    "document = MailMerge(template)\n",
    "docs_headers = document.get_merge_fields()\n",
    "docs_headers"
   ]
  },
  {
   "cell_type": "code",
   "execution_count": 190,
   "metadata": {},
   "outputs": [],
   "source": [
    "data = read_csv[0]\n",
    "document.merge(\n",
    "    amountPaid=read_csv[0]['amountPaid'],\n",
    "    cAddress=read_csv[0]['cAddress'],\n",
    "    cName=read_csv[0]['cName'],\n",
    "    details=read_csv[0]['details'],\n",
    "    duration=read_csv[0]['duration'],\n",
    "    eMailID=read_csv[0]['eMailID'],\n",
    "    noteAmount=read_csv[0]['amountPaid'],\n",
    "    phNumber='9176994499'\n",
    "    #subEndDate=read_csv[0]['subEndDate'],\n",
    "    #subStartDate=read_csv[0]['subStartDate']\n",
    ")\n",
    "document.write('test.docx')"
   ]
  },
  {
   "cell_type": "code",
   "execution_count": 12,
   "metadata": {},
   "outputs": [],
   "source": [
    "from datetime import date"
   ]
  },
  {
   "cell_type": "code",
   "execution_count": 13,
   "metadata": {},
   "outputs": [
    {
     "name": "stdout",
     "output_type": "stream",
     "text": "<class 'datetime.date'>\n"
    }
   ],
   "source": [
    "print(date)"
   ]
  },
  {
   "cell_type": "code",
   "execution_count": 24,
   "metadata": {},
   "outputs": [
    {
     "name": "stdout",
     "output_type": "stream",
     "text": "20200210\n"
    }
   ],
   "source": [
    "toDate = str(date.today())\n",
    "print(toDate.replace('-', '').format(   ))"
   ]
  },
  {
   "cell_type": "code",
   "execution_count": null,
   "metadata": {},
   "outputs": [],
   "source": []
  }
 ]
}